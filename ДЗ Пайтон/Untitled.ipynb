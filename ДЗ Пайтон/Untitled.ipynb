{
 "cells": [
  {
   "cell_type": "code",
   "execution_count": null,
   "id": "44469fa1-fbbd-4055-a1db-8f8d66eb6b3c",
   "metadata": {},
   "outputs": [],
   "source": [
    "import pandas as pd\n",
    "\n",
    "# Скачайте файл\n",
    "!wget https://raw.githubusercontent.com/dmlc/xgboost/master/demo/data/kc_house_data.csv\n",
    "\n",
    "# Считайте данные\n",
    "data = pd.read_csv('kc_house_data.csv')\n",
    "\n",
    "# Выведите первые 5 строк\n",
    "print(data.head())\n",
    "\n",
    "# Посмотрите на описание признаков\n",
    "print(data.info())\n",
    "\n",
    "# Посмотрите на содержание признаков\n",
    "print(data.describe())\n"
   ]
  },
  {
   "cell_type": "markdown",
   "id": "918b3f9f",
   "metadata": {},
   "source": []
  },
  {
   "cell_type": "markdown",
   "id": "6571e426",
   "metadata": {},
   "source": []
  }
 ],
 "metadata": {
  "kernelspec": {
   "display_name": "Python 3 (ipykernel)",
   "language": "python",
   "name": "python3"
  },
  "language_info": {
   "codemirror_mode": {
    "name": "ipython",
    "version": 3
   },
   "file_extension": ".py",
   "mimetype": "text/x-python",
   "name": "python",
   "nbconvert_exporter": "python",
   "pygments_lexer": "ipython3",
   "version": "3.12.4"
  }
 },
 "nbformat": 4,
 "nbformat_minor": 5
}
